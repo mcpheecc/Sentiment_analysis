{
 "cells": [
  {
   "cell_type": "code",
   "execution_count": 1,
   "metadata": {},
   "outputs": [],
   "source": [
    "from docx import Document\n",
    "import operator\n",
    "from textblob import TextBlob\n",
    "import math"
   ]
  },
  {
   "cell_type": "code",
   "execution_count": 2,
   "metadata": {},
   "outputs": [],
   "source": [
    "def get_ratio(a,b):\n",
    "    return (a-b)/2"
   ]
  },
  {
   "cell_type": "code",
   "execution_count": 3,
   "metadata": {},
   "outputs": [],
   "source": [
    "document = Document('transcripts.docx')"
   ]
  },
  {
   "cell_type": "code",
   "execution_count": 4,
   "metadata": {},
   "outputs": [],
   "source": [
    "paragraphs = document.paragraphs"
   ]
  },
  {
   "cell_type": "code",
   "execution_count": 5,
   "metadata": {},
   "outputs": [],
   "source": [
    "paragraphs[61].text = 'SEBASTIAN: '"
   ]
  },
  {
   "cell_type": "code",
   "execution_count": 6,
   "metadata": {},
   "outputs": [],
   "source": [
    "transcript_list = {}\n",
    "author = 'BLANK'\n",
    "for index, paragraph in enumerate(paragraphs):\n",
    "    if paragraph.text !=\"\" and 'Coverage' not in paragraph.text and paragraph.text!='\\t' and paragraph.text[-1]!=':' and paragraph.text!='\\n' and '§' not in paragraph.text and paragraph.text!='\\n\\n\\n' and paragraph.text!='\\n\\n\\n\\n':\n",
    "        if paragraph.text.split()[0][-1]==':' and paragraph.text.split()[0]==paragraph.text.split()[0].upper():\n",
    "            author = paragraph.text.split()[0][0:-1]\n",
    "        if author not in transcript_list:\n",
    "            transcript_list[author] = ''\n",
    "        transcript_list[author] = transcript_list[author]+' '+paragraph.text.replace('\\t','')"
   ]
  },
  {
   "cell_type": "code",
   "execution_count": 7,
   "metadata": {},
   "outputs": [],
   "source": [
    "climate_words = ['climate','science','weather','hurricane','extreme','temperature','water level','environment','sea level']"
   ]
  },
  {
   "cell_type": "code",
   "execution_count": 8,
   "metadata": {},
   "outputs": [
    {
     "name": "stdout",
     "output_type": "stream",
     "text": [
      "BLANK Sentiment(polarity=-0.013888888888888895, subjectivity=0.4472222222222222)\n",
      "0.03472222222222222 0.3069444444444444 0\n",
      "ELI Sentiment(polarity=0.16223958333333333, subjectivity=0.6476562499999999)\n",
      "0.20729166666666668 0.6957837301587302 0.13333333333333333 0.4611111111111111\n",
      "0.25 -0.036979166666666674\n",
      "RESPONDENT Sentiment(polarity=0.10533950617283944, subjectivity=0.47884479717813044)\n",
      "0.05869378306878308 0.3438337053571429 0.10524801587301587 0.4030555555555555\n",
      "0.20833333333333334 0.023277116402116393\n",
      "LAYLA Sentiment(polarity=-0.04004329004329005, subjectivity=0.4345238095238095)\n",
      "-0.09595959595959597 0.4583333333333333 0.03712121212121212 0.6666666666666666\n",
      "0.3333333333333333 0.06654040404040404\n",
      "STELLA Sentiment(polarity=0.10772243107769428, subjectivity=0.4745457393483709)\n",
      "0.10215880102040817 0.37710778061224487 0.0 1.0\n",
      "0.07142857142857142 -0.051079400510204084\n",
      "MASON Sentiment(polarity=-0.09305555555555556, subjectivity=0.3430555555555555)\n",
      "-0.10625 0.33749999999999997 -0.010416666666666671 0.3104166666666666\n",
      "0.5 0.04791666666666666\n",
      "BENJAMIN Sentiment(polarity=0.191409632034632, subjectivity=0.4249098124098124)\n",
      "0.1519923941798942 0.3193617724867725 0\n",
      "SEBASTIAN Sentiment(polarity=0.169375, subjectivity=0.37631944444444443)\n",
      "0.1342261904761905 0.25300925925925927 0.12291666666666667 0.6043981481481482\n",
      "0.14285714285714285 -0.005654761904761912\n",
      "INTERVIEWEE Sentiment(polarity=0.20637445887445888, subjectivity=0.5385714285714285)\n",
      "0.12040535222353405 0.3099025974025974 0.1913961038961039 0.5794642857142858\n",
      "0.18181818181818182 0.035495375836284926\n",
      "PAISLEY Sentiment(polarity=0.17573529411764707, subjectivity=0.3894607843137255)\n",
      "0.07486111111111111 0.25563888888888886 0.05555555555555555 0.19444444444444442\n",
      "0.2 -0.009652777777777781\n",
      "OWEN Sentiment(polarity=0.22401433691756276, subjectivity=0.3536738351254481)\n",
      "0.21067019400352735 0.31003086419753084 0.2 0.23750000000000002\n",
      "0.2857142857142857 -0.0053350970017636695\n",
      "RILEY Sentiment(polarity=-0.0029761904761904934, subjectivity=0.5386904761904762)\n",
      "-0.00042517006802721336 0.07695578231292517 0.0 0.0\n",
      "0.14285714285714285 0.00021258503401360668\n",
      "INTERVIEWER Sentiment(polarity=0.25, subjectivity=0.6944444444444444)\n",
      "0.25 0.6944444444444444 0.0 0.5\n",
      "0.5 -0.125\n",
      "GRAYSON Sentiment(polarity=0.07381368631368632, subjectivity=0.40790459540459545)\n",
      "0.023882367632367632 0.2416271228771229 -0.009943181818181823 0.5241477272727273\n",
      "0.15384615384615385 -0.016912774725274728\n",
      "VICTORIA Sentiment(polarity=0.20184151785714285, subjectivity=0.5952876984126985)\n",
      "0.15297619047619046 0.5068650793650793 0.6 0.9\n",
      "0.1 0.22351190476190474\n",
      "MUHAMMAD Sentiment(polarity=0.09523809523809523, subjectivity=0.2)\n",
      "0.04375 0.11041666666666666 0.15833333333333333 0.30833333333333335\n",
      "0.25 0.057291666666666664\n",
      "JANE Sentiment(polarity=-0.16666666666666666, subjectivity=0.06666666666666667)\n",
      "-0.08333333333333333 0.03333333333333333 -0.16666666666666666 0.06666666666666667\n",
      "0.5 -0.041666666666666664\n",
      "ALEXANDER Sentiment(polarity=0.04129106187929715, subjectivity=0.5143525592055004)\n",
      "-0.02640501655207539 0.41954863763687295 -0.10757575757575759 0.46363636363636357\n",
      "0.17647058823529413 -0.0405853705118411\n",
      "ETHAN Sentiment(polarity=0.15200708382526565, subjectivity=0.39870129870129867)\n",
      "0.23777056277056277 0.45178571428571435 0\n",
      "SAVANNAH Sentiment(polarity=0.017824074074074076, subjectivity=0.537037037037037)\n",
      "0.05824652777777778 0.4404513888888889 -0.125 0.375\n",
      "0.25 -0.09162326388888889\n"
     ]
    }
   ],
   "source": [
    "climate_reporters = []\n",
    "non_reporters = []\n",
    "for author in transcript_list:\n",
    "    blob = TextBlob(transcript_list[author])\n",
    "    print(author,blob.sentiment)\n",
    "    climate_count = 0\n",
    "    sentence_count = 0\n",
    "    climate_polarity = 0\n",
    "    climate_subjectivity = 0\n",
    "    sentence_polarity = 0\n",
    "    sentence_subjectivity = 0\n",
    "    for sentence in blob.sentences:\n",
    "        climate = False\n",
    "        for word in climate_words:\n",
    "            if word in sentence.lower():\n",
    "                climate = True\n",
    "        polarity = sentence.sentiment.polarity\n",
    "        subjectivity = sentence.sentiment.subjectivity\n",
    "        if climate:\n",
    "            climate_count += 1\n",
    "            climate_polarity += polarity\n",
    "            climate_subjectivity += subjectivity\n",
    "        sentence_count += 1\n",
    "        sentence_polarity += polarity\n",
    "        sentence_subjectivity += subjectivity\n",
    "    sentence_polarity = sentence_polarity/sentence_count\n",
    "    sentence_subjectivity = sentence_subjectivity/sentence_count\n",
    "    if climate_count>0:\n",
    "        climate_polarity = climate_polarity/climate_count\n",
    "        climate_subjectivity = climate_subjectivity/climate_count\n",
    "        climate_coverage = climate_count/sentence_count\n",
    "        climate_bias = climate_polarity/sentence_polarity\n",
    "        \n",
    "        print(sentence_polarity,sentence_subjectivity,climate_polarity,climate_subjectivity)\n",
    "        print(climate_coverage,get_ratio(climate_polarity,sentence_polarity))\n",
    "        climate_reporters.append((author,get_ratio(climate_polarity,sentence_polarity),climate_polarity,sentence_polarity,climate_coverage,sentence_count))\n",
    "    else:\n",
    "        print(sentence_polarity,sentence_subjectivity,climate_count)\n",
    "        non_reporters.append((author,sentence_polarity,sentence_count))\n",
    "    "
   ]
  },
  {
   "cell_type": "code",
   "execution_count": 46,
   "metadata": {},
   "outputs": [],
   "source": [
    "testblob = TextBlob(\"I hate mondays. But I love tuesdays\")"
   ]
  },
  {
   "cell_type": "code",
   "execution_count": 47,
   "metadata": {},
   "outputs": [
    {
     "data": {
      "text/plain": [
       "Sentiment(polarity=-0.15000000000000002, subjectivity=0.75)"
      ]
     },
     "execution_count": 47,
     "metadata": {},
     "output_type": "execute_result"
    }
   ],
   "source": [
    "testblob.sentiment"
   ]
  },
  {
   "cell_type": "code",
   "execution_count": 48,
   "metadata": {},
   "outputs": [
    {
     "name": "stdout",
     "output_type": "stream",
     "text": [
      "Sentiment(polarity=-0.8, subjectivity=0.9)\n",
      "Sentiment(polarity=0.5, subjectivity=0.6)\n"
     ]
    }
   ],
   "source": [
    "for sentence in testblob.sentences:\n",
    "    print(sentence.sentiment)"
   ]
  },
  {
   "cell_type": "code",
   "execution_count": 51,
   "metadata": {},
   "outputs": [],
   "source": [
    "testnum = 3"
   ]
  },
  {
   "cell_type": "code",
   "execution_count": 52,
   "metadata": {},
   "outputs": [],
   "source": [
    "testnum = testnum/3"
   ]
  },
  {
   "cell_type": "code",
   "execution_count": 53,
   "metadata": {},
   "outputs": [
    {
     "data": {
      "text/plain": [
       "1.0"
      ]
     },
     "execution_count": 53,
     "metadata": {},
     "output_type": "execute_result"
    }
   ],
   "source": [
    "testnum"
   ]
  },
  {
   "cell_type": "code",
   "execution_count": 139,
   "metadata": {},
   "outputs": [],
   "source": [
    "testcases = [(0.1,0.9),(-0.1,0.9),(0.1,-0.9),(-0.1,-0.9),(0.9,0.1),(-0.9,0.1),(0.9,-0.1),(-0.9,-0.1),(0.1,0.1),(0.9,0.9),(-0.1,0.1),(0.1,-0.1),(-1,1),(1,-1)]"
   ]
  },
  {
   "cell_type": "code",
   "execution_count": 150,
   "metadata": {},
   "outputs": [
    {
     "name": "stdout",
     "output_type": "stream",
     "text": [
      "0.1,0.9=-0.4\n",
      "-0.1,0.9=-0.5\n",
      "0.1,-0.9=0.5\n",
      "-0.1,-0.9=0.4\n",
      "0.9,0.1=0.4\n",
      "-0.9,0.1=-0.5\n",
      "0.9,-0.1=0.5\n",
      "-0.9,-0.1=-0.4\n",
      "0.1,0.1=0.0\n",
      "0.9,0.9=0.0\n",
      "-0.1,0.1=-0.1\n",
      "0.1,-0.1=0.1\n",
      "-1,1=-1.0\n",
      "1,-1=1.0\n"
     ]
    }
   ],
   "source": [
    "for top,bottom in testcases:\n",
    "    print(str(top)+','+str(bottom)+'='+str(get_ratio(top,bottom)))"
   ]
  },
  {
   "cell_type": "code",
   "execution_count": 162,
   "metadata": {},
   "outputs": [
    {
     "data": {
      "text/plain": [
       "[('ELI',\n",
       "  -0.036979166666666674,\n",
       "  0.13333333333333333,\n",
       "  0.20729166666666668,\n",
       "  0.25,\n",
       "  4),\n",
       " ('RESPONDENT',\n",
       "  0.023277116402116393,\n",
       "  0.10524801587301587,\n",
       "  0.05869378306878308,\n",
       "  0.20833333333333334,\n",
       "  48),\n",
       " ('LAYLA',\n",
       "  0.06654040404040404,\n",
       "  0.03712121212121212,\n",
       "  -0.09595959595959597,\n",
       "  0.3333333333333333,\n",
       "  3),\n",
       " ('STELLA',\n",
       "  -0.051079400510204084,\n",
       "  0.0,\n",
       "  0.10215880102040817,\n",
       "  0.07142857142857142,\n",
       "  28),\n",
       " ('MASON', 0.04791666666666666, -0.010416666666666671, -0.10625, 0.5, 4),\n",
       " ('SEBASTIAN',\n",
       "  -0.005654761904761912,\n",
       "  0.12291666666666667,\n",
       "  0.1342261904761905,\n",
       "  0.14285714285714285,\n",
       "  7),\n",
       " ('INTERVIEWEE',\n",
       "  0.035495375836284926,\n",
       "  0.1913961038961039,\n",
       "  0.12040535222353405,\n",
       "  0.18181818181818182,\n",
       "  11),\n",
       " ('PAISLEY',\n",
       "  -0.009652777777777781,\n",
       "  0.05555555555555555,\n",
       "  0.07486111111111111,\n",
       "  0.2,\n",
       "  10),\n",
       " ('OWEN',\n",
       "  -0.0053350970017636695,\n",
       "  0.2,\n",
       "  0.21067019400352735,\n",
       "  0.2857142857142857,\n",
       "  14),\n",
       " ('RILEY',\n",
       "  0.00021258503401360668,\n",
       "  0.0,\n",
       "  -0.00042517006802721336,\n",
       "  0.14285714285714285,\n",
       "  7),\n",
       " ('INTERVIEWER', -0.125, 0.0, 0.25, 0.5, 2),\n",
       " ('GRAYSON',\n",
       "  -0.016912774725274728,\n",
       "  -0.009943181818181823,\n",
       "  0.023882367632367632,\n",
       "  0.15384615384615385,\n",
       "  13),\n",
       " ('VICTORIA', 0.22351190476190474, 0.6, 0.15297619047619046, 0.1, 10),\n",
       " ('MUHAMMAD', 0.057291666666666664, 0.15833333333333333, 0.04375, 0.25, 4),\n",
       " ('JANE',\n",
       "  -0.041666666666666664,\n",
       "  -0.16666666666666666,\n",
       "  -0.08333333333333333,\n",
       "  0.5,\n",
       "  2),\n",
       " ('ALEXANDER',\n",
       "  -0.0405853705118411,\n",
       "  -0.10757575757575759,\n",
       "  -0.02640501655207539,\n",
       "  0.17647058823529413,\n",
       "  17),\n",
       " ('SAVANNAH', -0.09162326388888889, -0.125, 0.05824652777777778, 0.25, 4)]"
      ]
     },
     "execution_count": 162,
     "metadata": {},
     "output_type": "execute_result"
    }
   ],
   "source": [
    "climate_reporters"
   ]
  },
  {
   "cell_type": "code",
   "execution_count": 161,
   "metadata": {},
   "outputs": [
    {
     "data": {
      "text/plain": [
       "[('BLANK', 0.03472222222222222, 3),\n",
       " ('BENJAMIN', 0.1519923941798942, 24),\n",
       " ('ETHAN', 0.23777056277056277, 5)]"
      ]
     },
     "execution_count": 161,
     "metadata": {},
     "output_type": "execute_result"
    }
   ],
   "source": [
    "non_reporters"
   ]
  },
  {
   "cell_type": "code",
   "execution_count": 165,
   "metadata": {},
   "outputs": [
    {
     "name": "stdout",
     "output_type": "stream",
     "text": [
      "Climate Change Reporters:\n",
      "Author: ELI\n",
      "Climate Sentiment: 0.13333333333333333\n",
      "General Sentiment: 0.20729166666666668\n",
      "Ratio: -0.036979166666666674\n",
      "Coverage Percent: 0.25%\n",
      "Number of Sentences: 4\n",
      "\n",
      "Author: RESPONDENT\n",
      "Climate Sentiment: 0.10524801587301587\n",
      "General Sentiment: 0.05869378306878308\n",
      "Ratio: 0.023277116402116393\n",
      "Coverage Percent: 0.20833333333333334%\n",
      "Number of Sentences: 48\n",
      "\n",
      "Author: LAYLA\n",
      "Climate Sentiment: 0.03712121212121212\n",
      "General Sentiment: -0.09595959595959597\n",
      "Ratio: 0.06654040404040404\n",
      "Coverage Percent: 0.3333333333333333%\n",
      "Number of Sentences: 3\n",
      "\n",
      "Author: STELLA\n",
      "Climate Sentiment: 0.0\n",
      "General Sentiment: 0.10215880102040817\n",
      "Ratio: -0.051079400510204084\n",
      "Coverage Percent: 0.07142857142857142%\n",
      "Number of Sentences: 28\n",
      "\n",
      "Author: MASON\n",
      "Climate Sentiment: -0.010416666666666671\n",
      "General Sentiment: -0.10625\n",
      "Ratio: 0.04791666666666666\n",
      "Coverage Percent: 0.5%\n",
      "Number of Sentences: 4\n",
      "\n",
      "Author: SEBASTIAN\n",
      "Climate Sentiment: 0.12291666666666667\n",
      "General Sentiment: 0.1342261904761905\n",
      "Ratio: -0.005654761904761912\n",
      "Coverage Percent: 0.14285714285714285%\n",
      "Number of Sentences: 7\n",
      "\n",
      "Author: INTERVIEWEE\n",
      "Climate Sentiment: 0.1913961038961039\n",
      "General Sentiment: 0.12040535222353405\n",
      "Ratio: 0.035495375836284926\n",
      "Coverage Percent: 0.18181818181818182%\n",
      "Number of Sentences: 11\n",
      "\n",
      "Author: PAISLEY\n",
      "Climate Sentiment: 0.05555555555555555\n",
      "General Sentiment: 0.07486111111111111\n",
      "Ratio: -0.009652777777777781\n",
      "Coverage Percent: 0.2%\n",
      "Number of Sentences: 10\n",
      "\n",
      "Author: OWEN\n",
      "Climate Sentiment: 0.2\n",
      "General Sentiment: 0.21067019400352735\n",
      "Ratio: -0.0053350970017636695\n",
      "Coverage Percent: 0.2857142857142857%\n",
      "Number of Sentences: 14\n",
      "\n",
      "Author: RILEY\n",
      "Climate Sentiment: 0.0\n",
      "General Sentiment: -0.00042517006802721336\n",
      "Ratio: 0.00021258503401360668\n",
      "Coverage Percent: 0.14285714285714285%\n",
      "Number of Sentences: 7\n",
      "\n",
      "Author: INTERVIEWER\n",
      "Climate Sentiment: 0.0\n",
      "General Sentiment: 0.25\n",
      "Ratio: -0.125\n",
      "Coverage Percent: 0.5%\n",
      "Number of Sentences: 2\n",
      "\n",
      "Author: GRAYSON\n",
      "Climate Sentiment: -0.009943181818181823\n",
      "General Sentiment: 0.023882367632367632\n",
      "Ratio: -0.016912774725274728\n",
      "Coverage Percent: 0.15384615384615385%\n",
      "Number of Sentences: 13\n",
      "\n",
      "Author: VICTORIA\n",
      "Climate Sentiment: 0.6\n",
      "General Sentiment: 0.15297619047619046\n",
      "Ratio: 0.22351190476190474\n",
      "Coverage Percent: 0.1%\n",
      "Number of Sentences: 10\n",
      "\n",
      "Author: MUHAMMAD\n",
      "Climate Sentiment: 0.15833333333333333\n",
      "General Sentiment: 0.04375\n",
      "Ratio: 0.057291666666666664\n",
      "Coverage Percent: 0.25%\n",
      "Number of Sentences: 4\n",
      "\n",
      "Author: JANE\n",
      "Climate Sentiment: -0.16666666666666666\n",
      "General Sentiment: -0.08333333333333333\n",
      "Ratio: -0.041666666666666664\n",
      "Coverage Percent: 0.5%\n",
      "Number of Sentences: 2\n",
      "\n",
      "Author: ALEXANDER\n",
      "Climate Sentiment: -0.10757575757575759\n",
      "General Sentiment: -0.02640501655207539\n",
      "Ratio: -0.0405853705118411\n",
      "Coverage Percent: 0.17647058823529413%\n",
      "Number of Sentences: 17\n",
      "\n",
      "Author: SAVANNAH\n",
      "Climate Sentiment: -0.125\n",
      "General Sentiment: 0.05824652777777778\n",
      "Ratio: -0.09162326388888889\n",
      "Coverage Percent: 0.25%\n",
      "Number of Sentences: 4\n",
      "\n",
      "Reporters Who Didn't Mention Climate Change:\n",
      "Author: BLANK\n",
      "General Sentiment: 0.03472222222222222\n",
      "Number of Sentences: 3\n",
      "\n",
      "Author: BENJAMIN\n",
      "General Sentiment: 0.1519923941798942\n",
      "Number of Sentences: 24\n",
      "\n",
      "Author: ETHAN\n",
      "General Sentiment: 0.23777056277056277\n",
      "Number of Sentences: 5\n",
      "\n"
     ]
    }
   ],
   "source": [
    "#(author,get_ratio(climate_polarity,sentence_polarity),climate_polarity,sentence_polarity,climate_coverage,sentence_count)\n",
    "print(\"Climate Change Reporters:\")\n",
    "for author,ratio,climate,sentence,coverage,count in climate_reporters:\n",
    "    print(\"Author: \"+author)\n",
    "    print(\"Climate Sentiment: \"+str(climate))\n",
    "    print(\"General Sentiment: \"+str(sentence))\n",
    "    print(\"Ratio: \"+str(ratio))\n",
    "    print(\"Coverage Percent: \"+str(coverage)+\"%\")\n",
    "    print(\"Number of Sentences: \"+str(count))\n",
    "    print(\"\")\n",
    "print(\"Reporters Who Didn't Mention Climate Change:\")\n",
    "for author,sentiment,count in non_reporters:\n",
    "    print(\"Author: \"+author)\n",
    "    print(\"General Sentiment: \"+str(sentiment))\n",
    "    print(\"Number of Sentences: \"+str(count))\n",
    "    print(\"\")"
   ]
  },
  {
   "cell_type": "code",
   "execution_count": null,
   "metadata": {},
   "outputs": [],
   "source": []
  }
 ],
 "metadata": {
  "kernelspec": {
   "display_name": "Python 3",
   "language": "python",
   "name": "python3"
  },
  "language_info": {
   "codemirror_mode": {
    "name": "ipython",
    "version": 3
   },
   "file_extension": ".py",
   "mimetype": "text/x-python",
   "name": "python",
   "nbconvert_exporter": "python",
   "pygments_lexer": "ipython3",
   "version": "3.7.1"
  }
 },
 "nbformat": 4,
 "nbformat_minor": 2
}
